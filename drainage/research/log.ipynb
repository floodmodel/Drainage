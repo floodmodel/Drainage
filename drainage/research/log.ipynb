{
 "cells": [
  {
   "cell_type": "code",
   "execution_count": 1,
   "metadata": {},
   "outputs": [],
   "source": [
    "import logging"
   ]
  },
  {
   "cell_type": "code",
   "execution_count": 2,
   "metadata": {},
   "outputs": [],
   "source": [
    "def init_logger():\n",
    "    logger = logging.getLogger(\"drainage\")\n",
    "    logger.setLevel(logging.DEBUG)\n",
    "\n",
    "    debug_handler = logging.StreamHandler()\n",
    "    debug_handler.setLevel(logging.DEBUG)\n",
    "    \n",
    "    debug_formatter = logging.Formatter('%(asctime)s - %(name)s - %(levelname)s - %(message)s')\n",
    "    debug_handler.setFormatter(debug_formatter)\n",
    "    \n",
    "    logger.addHandler(debug_handler)\n",
    "    \n",
    "    filter = logging.Filter('drainage')\n",
    "    debug_handler.addFilter(filter)\n",
    "    \n",
    "    logger.getChild(\"drainage\").debug(\"Logger initialized\")"
   ]
  },
  {
   "cell_type": "code",
   "execution_count": 3,
   "metadata": {},
   "outputs": [],
   "source": [
    "init_logger()"
   ]
  },
  {
   "cell_type": "code",
   "execution_count": 4,
   "metadata": {},
   "outputs": [],
   "source": [
    "logger = logging.getLogger(\"drainage\")"
   ]
  },
  {
   "cell_type": "code",
   "execution_count": 5,
   "metadata": {},
   "outputs": [
    {
     "name": "stderr",
     "output_type": "stream",
     "text": [
      "2023-11-10 17:14:26,150 - drainage - DEBUG - This is a debug message\n",
      "2023-11-10 17:14:26,151 - drainage - INFO - This is a debug message\n"
     ]
    }
   ],
   "source": [
    "logger.debug(\"This is a debug message\")\n",
    "logger.info(\"This is a debug message\")"
   ]
  },
  {
   "cell_type": "code",
   "execution_count": 1,
   "metadata": {},
   "outputs": [
    {
     "data": {
      "text/plain": [
       "'c:\\\\Users\\\\seokmin\\\\Documents\\\\workspace\\\\qgis_drainage\\\\.venv\\\\Scripts;C:\\\\Users\\\\seokmin\\\\Documents\\\\workspace\\\\qgis_drainage\\\\.venv\\\\Scripts;C:\\\\Program Files\\\\Microsoft MPI\\\\Bin\\\\;C:\\\\Program Files (x86)\\\\Microsoft SDKs\\\\Azure\\\\CLI2\\\\wbin;C:\\\\Program Files\\\\Microsoft SDKs\\\\Azure\\\\CLI2\\\\wbin;C:\\\\Windows\\\\system32;C:\\\\Windows;C:\\\\Windows\\\\System32\\\\Wbem;C:\\\\Windows\\\\System32\\\\WindowsPowerShell\\\\v1.0\\\\;C:\\\\Windows\\\\System32\\\\OpenSSH\\\\;C:\\\\Program Files\\\\Bandizip\\\\;C:\\\\Program Files\\\\Git\\\\cmd;C:\\\\Program Files\\\\PowerShell\\\\7\\\\;C:\\\\GDAL;C:\\\\Program Files\\\\GDAL;C:\\\\Program Files\\\\TauDEM\\\\TauDEM5Exe;C:\\\\Users\\\\seokmin\\\\AppData\\\\Local\\\\Programs\\\\WingetUI\\\\choco-cli\\\\bin;C:\\\\Users\\\\seokmin\\\\AppData\\\\Local\\\\Microsoft\\\\WindowsApps;C:\\\\Users\\\\seokmin\\\\AppData\\\\Local\\\\Programs\\\\Microsoft VS Code\\\\bin;C:\\\\Users\\\\seokmin\\\\AppData\\\\Local\\\\GitHubDesktop\\\\bin;C:\\\\Users\\\\seokmin\\\\AppData\\\\Local\\\\Programs\\\\oh-my-posh\\\\bin;C:\\\\Program Files\\\\7-Zip;'"
      ]
     },
     "execution_count": 1,
     "metadata": {},
     "output_type": "execute_result"
    }
   ],
   "source": [
    "import os\n",
    "\n",
    "os.environ[\"PATH\"]"
   ]
  }
 ],
 "metadata": {
  "kernelspec": {
   "display_name": ".venv",
   "language": "python",
   "name": "python3"
  },
  "language_info": {
   "codemirror_mode": {
    "name": "ipython",
    "version": 3
   },
   "file_extension": ".py",
   "mimetype": "text/x-python",
   "name": "python",
   "nbconvert_exporter": "python",
   "pygments_lexer": "ipython3",
   "version": "3.9.5"
  }
 },
 "nbformat": 4,
 "nbformat_minor": 2
}
